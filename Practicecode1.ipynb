{
 "cells": [
  {
   "cell_type": "markdown",
   "id": "edc7f6d2-b78e-4ce3-8bca-8e2e4c6a330a",
   "metadata": {},
   "source": [
    "# Question no.1"
   ]
  },
  {
   "cell_type": "code",
   "execution_count": 6,
   "id": "cfb84337-64bd-494e-be68-fec8c50aa0aa",
   "metadata": {},
   "outputs": [
    {
     "name": "stdout",
     "output_type": "stream",
     "text": [
      "modifiedsentance: My name is pratiksha bhosale\n"
     ]
    }
   ],
   "source": [
    "sentance=\"my name is pratiksha bhosale\"\n",
    "modifiedsentance=sentance.capitalize()\n",
    "print(\"modifiedsentance:\",modifiedsentance)"
   ]
  },
  {
   "cell_type": "markdown",
   "id": "df382ce3-4c05-4b6f-a447-ac328c0ad41c",
   "metadata": {},
   "source": [
    "# Question no.2"
   ]
  },
  {
   "cell_type": "code",
   "execution_count": 11,
   "id": "668dcefc-0954-4d39-b9f4-66e9cf8d892a",
   "metadata": {},
   "outputs": [
    {
     "name": "stdin",
     "output_type": "stream",
     "text": [
      "enter the string: NBFCUCV CVGFSK\n"
     ]
    },
    {
     "name": "stdout",
     "output_type": "stream",
     "text": [
      "nbfcucv cvgfsk\n"
     ]
    }
   ],
   "source": [
    "string=input(\"enter the string:\")\n",
    "a=string.lower()\n",
    "print(a)"
   ]
  },
  {
   "cell_type": "markdown",
   "id": "f43ae19d-370f-45ea-9bc3-2047813e0cf2",
   "metadata": {},
   "source": [
    "# Question no.3"
   ]
  },
  {
   "cell_type": "code",
   "execution_count": 9,
   "id": "3e7124ec-ce62-4660-9c47-c40e497d9f5c",
   "metadata": {},
   "outputs": [
    {
     "name": "stdin",
     "output_type": "stream",
     "text": [
      "enter the string: mnbcilhdgwlyeh\n"
     ]
    },
    {
     "name": "stdout",
     "output_type": "stream",
     "text": [
      "MNBCILHDGWLYEH\n"
     ]
    }
   ],
   "source": [
    "string=input(\"enter the string:\")\n",
    "a=string.upper()\n",
    "print(a)"
   ]
  },
  {
   "cell_type": "markdown",
   "id": "b711b6bd-72ef-480f-a585-c186a769be91",
   "metadata": {},
   "source": [
    "# Question no.4"
   ]
  },
  {
   "cell_type": "code",
   "execution_count": 12,
   "id": "9e7a00b6-df3f-4ab1-aa5c-622be31e4ea7",
   "metadata": {},
   "outputs": [
    {
     "name": "stdin",
     "output_type": "stream",
     "text": [
      "enter the string i am pratiksha\n"
     ]
    },
    {
     "name": "stdout",
     "output_type": "stream",
     "text": [
      "I Am Pratiksha\n"
     ]
    }
   ],
   "source": [
    "sentance=input(\"enter the string:\")\n",
    "a=sentance.title()\n",
    "print(a)"
   ]
  },
  {
   "cell_type": "markdown",
   "id": "9f577d49-6edb-440b-b96f-2c9770865a59",
   "metadata": {},
   "source": [
    "# Question no.5"
   ]
  },
  {
   "cell_type": "code",
   "execution_count": 16,
   "id": "7150833f-6404-448f-893e-f9091c087007",
   "metadata": {},
   "outputs": [
    {
     "name": "stdin",
     "output_type": "stream",
     "text": [
      "Enter the string: hii everyone ..........     !!!!!!\n"
     ]
    },
    {
     "name": "stdout",
     "output_type": "stream",
     "text": [
      "hii everyone ..........     !!!!!!\n"
     ]
    }
   ],
   "source": [
    "inputstring=input(\"Enter the string:\")\n",
    "stripstring=inputstring.lstrip()\n",
    "print(stripstring)"
   ]
  },
  {
   "cell_type": "markdown",
   "id": "756a5bbf-af4e-4ca4-a9e7-31c64ed8753f",
   "metadata": {},
   "source": [
    "# Question no.6"
   ]
  },
  {
   "cell_type": "code",
   "execution_count": 18,
   "id": "07653fae-166c-4825-beb3-ec8196aa5b20",
   "metadata": {},
   "outputs": [
    {
     "name": "stdin",
     "output_type": "stream",
     "text": [
      "Enter the string bds   hagf uhvb\n"
     ]
    },
    {
     "name": "stdout",
     "output_type": "stream",
     "text": [
      "bds   hagf uhvb\n"
     ]
    }
   ],
   "source": [
    "inputstring=input(\"Enter the string\")\n",
    "stripstring=inputstring.rstrip()\n",
    "print(stripstring)"
   ]
  },
  {
   "cell_type": "markdown",
   "id": "fc0db76e-673c-4eb0-9b70-e2ae07d5278b",
   "metadata": {},
   "source": [
    "# Question no.7"
   ]
  },
  {
   "cell_type": "code",
   "execution_count": 20,
   "id": "39f8c8cd-0850-449f-a85d-6b22bd3d82a2",
   "metadata": {},
   "outputs": [
    {
     "name": "stdin",
     "output_type": "stream",
     "text": [
      "Enter the string Hello,world!!\n"
     ]
    },
    {
     "name": "stdout",
     "output_type": "stream",
     "text": [
      "Hello,world!!\n"
     ]
    }
   ],
   "source": [
    "inputstring=input(\"Enter the string\")\n",
    "stripstring=inputstring.strip()\n",
    "print(stripstring)"
   ]
  },
  {
   "cell_type": "markdown",
   "id": "dbd58538-71e6-4125-9b5f-982cef9169a0",
   "metadata": {},
   "source": [
    "# Question no.8"
   ]
  },
  {
   "cell_type": "code",
   "execution_count": 23,
   "id": "713cf481-d48c-4036-a9ab-a3953fefef5e",
   "metadata": {},
   "outputs": [
    {
     "name": "stdin",
     "output_type": "stream",
     "text": [
      "Enter a sentence:  i have completed power bi skill\n",
      "Enter the word to be replaced:  power bi\n",
      "Enter the new word:  python\n"
     ]
    },
    {
     "name": "stdout",
     "output_type": "stream",
     "text": [
      "Updated sentence: i have completed python skill\n"
     ]
    }
   ],
   "source": [
    "\n",
    "sentence = input(\"Enter a sentence: \")\n",
    "old_word = input(\"Enter the word to be replaced: \")\n",
    "new_word = input(\"Enter the new word: \")\n",
    "updated_sentence = sentence.replace(old_word, new_word)\n",
    "print(\"Updated sentence:\", updated_sentence)\n"
   ]
  },
  {
   "cell_type": "markdown",
   "id": "7a957c88-e4cd-4e09-bb02-f1d98c120077",
   "metadata": {},
   "source": [
    "# Question no.9"
   ]
  },
  {
   "cell_type": "code",
   "execution_count": 26,
   "id": "8cbff6d8-be1f-405e-b70a-fd42dc52b94a",
   "metadata": {},
   "outputs": [
    {
     "name": "stdin",
     "output_type": "stream",
     "text": [
      "Enter a string:  hii everyone ..........     !!!!!!\n",
      "Enter the character to count:  e\n"
     ]
    },
    {
     "name": "stdout",
     "output_type": "stream",
     "text": [
      "The character 'e' appears 3 times.\n"
     ]
    }
   ],
   "source": [
    "text = input(\"Enter a string: \")\n",
    "char = input(\"Enter the character to count: \")\n",
    "count = 0\n",
    "\n",
    "for c in text:\n",
    "    if c == char:\n",
    "        count += 1\n",
    "print(f\"The character '{char}' appears {count} times.\")\n"
   ]
  },
  {
   "cell_type": "markdown",
   "id": "464c228f-2251-4e1b-8517-91ac582068b2",
   "metadata": {},
   "source": [
    "# Question no.10"
   ]
  },
  {
   "cell_type": "code",
   "execution_count": 28,
   "id": "5d8dc89a-45ab-403b-9045-9dfe5b1e5c0a",
   "metadata": {},
   "outputs": [
    {
     "name": "stdin",
     "output_type": "stream",
     "text": [
      "Enter a string:  Bhosale\n",
      "Enter the substring to find:  a\n"
     ]
    },
    {
     "name": "stdout",
     "output_type": "stream",
     "text": [
      "The substring 'a' found at index 4.\n"
     ]
    }
   ],
   "source": [
    "text = input(\"Enter a string: \")\n",
    "substring = input(\"Enter the substring to find: \")\n",
    "index = text.find(substring)\n",
    "\n",
    "if index != -1:\n",
    "    print(f\"The substring '{substring}' found at index {index}.\")\n",
    "else:\n",
    "    print(f\"The substring '{substring}' was not found in the string.\")\n"
   ]
  },
  {
   "cell_type": "markdown",
   "id": "bbaf27cc-8526-45cb-ad11-8a4304824303",
   "metadata": {},
   "source": [
    "# Question no. 11"
   ]
  },
  {
   "cell_type": "code",
   "execution_count": null,
   "id": "ac47193e-158e-41b7-8f0b-ea8c5df10df4",
   "metadata": {},
   "outputs": [],
   "source": [
    "string = input(\"Enter the main string: \")\n",
    "substring = input(\"Enter the substring to find: \")\n",
    "\n",
    "index = string.find(substring)\n",
    "while index != -1:\n",
    "    print(f\"Found at index: {index}\")\n",
    "    index = string.find(substring, index + 1)\n"
   ]
  },
  {
   "cell_type": "code",
   "execution_count": null,
   "id": "739d1047-8e48-45e3-89e6-ddfffa3e2425",
   "metadata": {},
   "outputs": [],
   "source": []
  }
 ],
 "metadata": {
  "kernelspec": {
   "display_name": "Python 3 (ipykernel)",
   "language": "python",
   "name": "python3"
  },
  "language_info": {
   "codemirror_mode": {
    "name": "ipython",
    "version": 3
   },
   "file_extension": ".py",
   "mimetype": "text/x-python",
   "name": "python",
   "nbconvert_exporter": "python",
   "pygments_lexer": "ipython3",
   "version": "3.12.4"
  }
 },
 "nbformat": 4,
 "nbformat_minor": 5
}
