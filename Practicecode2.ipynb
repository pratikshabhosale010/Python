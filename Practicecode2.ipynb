{
 "cells": [
  {
   "cell_type": "markdown",
   "id": "9ae518af-89e8-47eb-8f85-af511eeda2e8",
   "metadata": {},
   "source": [
    "# Questions no.11"
   ]
  },
  {
   "cell_type": "code",
   "execution_count": 1,
   "id": "0ec27738-e3db-4ac4-9b0b-34075395fe4f",
   "metadata": {},
   "outputs": [
    {
     "name": "stdin",
     "output_type": "stream",
     "text": [
      "Enter the main string:  hello\n",
      "Enter the substring to find:  e\n"
     ]
    },
    {
     "name": "stdout",
     "output_type": "stream",
     "text": [
      "Found at index: 1\n"
     ]
    }
   ],
   "source": [
    "string = input(\"Enter the main string: \")\n",
    "substring = input(\"Enter the substring to find: \")\n",
    "\n",
    "index = string.find(substring)\n",
    "while index != -1:\n",
    "    print(f\"Found at index: {index}\")\n",
    "    index = string.find(substring, index + 1)\n"
   ]
  },
  {
   "cell_type": "markdown",
   "id": "9f1aa4c0-f710-4b42-8307-85447d177531",
   "metadata": {},
   "source": [
    "# Question no.12"
   ]
  },
  {
   "cell_type": "code",
   "execution_count": 3,
   "id": "1da63bff-452f-41cc-ae6a-6536a4467cff",
   "metadata": {},
   "outputs": [
    {
     "name": "stdin",
     "output_type": "stream",
     "text": [
      "Enter a comma-separated list of items:  [\"hey\",\"hii\", \"everyone\"]\n"
     ]
    },
    {
     "name": "stdout",
     "output_type": "stream",
     "text": [
      "[\"hey\"\n",
      "\"hii\"\n",
      "\"everyone\"]\n"
     ]
    }
   ],
   "source": [
    "input_string = input(\"Enter a comma-separated list of items: \")\n",
    "items = input_string.split(',')\n",
    "\n",
    "for item in items:\n",
    "    print(item.strip())\n"
   ]
  },
  {
   "cell_type": "markdown",
   "id": "66c0e546-b12b-4f3b-9f57-90294e2056a6",
   "metadata": {},
   "source": [
    "# Question no.13"
   ]
  },
  {
   "cell_type": "code",
   "execution_count": 4,
   "id": "53ba173f-8bf1-4a99-8943-3f010def7983",
   "metadata": {},
   "outputs": [
    {
     "name": "stdin",
     "output_type": "stream",
     "text": [
      "Enter a filename:  text.txt\n"
     ]
    },
    {
     "name": "stdout",
     "output_type": "stream",
     "text": [
      "This is a text file.\n"
     ]
    }
   ],
   "source": [
    "filename = input(\"Enter a filename: \")\n",
    "\n",
    "if filename.endswith(\".txt\"):\n",
    "    print(\"This is a text file.\")\n",
    "else:\n",
    "    print(\"This is not necessarily a text file.\")\n"
   ]
  },
  {
   "cell_type": "markdown",
   "id": "4a0260d6-87ce-4df1-a61f-e6d3783661fe",
   "metadata": {},
   "source": [
    "# Question no.14"
   ]
  },
  {
   "cell_type": "code",
   "execution_count": 9,
   "id": "2e10803e-603c-461c-a0a2-ed9a6686c8a8",
   "metadata": {},
   "outputs": [
    {
     "name": "stdin",
     "output_type": "stream",
     "text": [
      "Enter a line of text:  pratu@123\n"
     ]
    },
    {
     "name": "stdout",
     "output_type": "stream",
     "text": [
      "This line does not appear to be an email subject.\n"
     ]
    }
   ],
   "source": [
    "line = input(\"Enter a line of text: \")\n",
    "\n",
    "if line.startswith(\"Subject: \"):\n",
    "    print(\"This line is likely an email subject.\")\n",
    "else:\n",
    "    print(\"This line does not appear to be an email subject.\")\n"
   ]
  },
  {
   "cell_type": "markdown",
   "id": "ca2c3e39-971f-4f69-8ae7-a711a15338f8",
   "metadata": {},
   "source": [
    "# Question no.15"
   ]
  },
  {
   "cell_type": "code",
   "execution_count": 10,
   "id": "0bb20d50-814a-44d5-9bf9-515fbd0c2a2f",
   "metadata": {},
   "outputs": [
    {
     "name": "stdin",
     "output_type": "stream",
     "text": [
      "Enter a string:  pratu12345\n"
     ]
    },
    {
     "name": "stdout",
     "output_type": "stream",
     "text": [
      "Alphanumeric string\n"
     ]
    }
   ],
   "source": [
    "string = input(\"Enter a string: \")\n",
    "\n",
    "if string.isalnum():\n",
    "    print(\"Alphanumeric string\")\n",
    "else:\n",
    "    print(\"Not an alphanumeric string\")\n"
   ]
  },
  {
   "cell_type": "markdown",
   "id": "856b0a0a-0201-41de-8e70-bc45012faa05",
   "metadata": {},
   "source": [
    "# Question no. 16"
   ]
  },
  {
   "cell_type": "code",
   "execution_count": 11,
   "id": "463d6e32-74f3-4039-b45e-b8a2554a2306",
   "metadata": {},
   "outputs": [
    {
     "name": "stdin",
     "output_type": "stream",
     "text": [
      "Enter a string:  ABCD\n"
     ]
    },
    {
     "name": "stdout",
     "output_type": "stream",
     "text": [
      "Alphabetic string\n"
     ]
    }
   ],
   "source": [
    "string = input(\"Enter a string: \")\n",
    "\n",
    "if string.isalpha():\n",
    "    print(\"Alphabetic string\")\n",
    "else:\n",
    "    print(\"Not an alphabetic string\")\n"
   ]
  },
  {
   "cell_type": "markdown",
   "id": "601a6151-4345-4c5c-a9ac-44dd2364bee6",
   "metadata": {},
   "source": [
    "# Question no.17"
   ]
  },
  {
   "cell_type": "code",
   "execution_count": 12,
   "id": "d586a06f-e19f-4aea-a80e-8023a65c17c2",
   "metadata": {},
   "outputs": [
    {
     "name": "stdin",
     "output_type": "stream",
     "text": [
      "Enter a string:  123281875\n"
     ]
    },
    {
     "name": "stdout",
     "output_type": "stream",
     "text": [
      "Decimal string\n"
     ]
    }
   ],
   "source": [
    "string = input(\"Enter a string: \")\n",
    "\n",
    "if string.isdecimal():\n",
    "    print(\"Decimal string\")\n",
    "else:\n",
    "    print(\"Not a decimal string\")\n"
   ]
  },
  {
   "cell_type": "markdown",
   "id": "d9f90167-90bf-4206-b4ea-80b84dd285f3",
   "metadata": {},
   "source": [
    "# Question  no.18"
   ]
  },
  {
   "cell_type": "code",
   "execution_count": 14,
   "id": "e65eb193-b7ea-4da2-9e92-5889cc81cbec",
   "metadata": {},
   "outputs": [
    {
     "name": "stdin",
     "output_type": "stream",
     "text": [
      "Enter a string:  1232455\n"
     ]
    },
    {
     "name": "stdout",
     "output_type": "stream",
     "text": [
      "Digit string\n"
     ]
    }
   ],
   "source": [
    "string = input(\"Enter a string: \")\n",
    "\n",
    "if string.isdigit():\n",
    "    print(\"Digit string\")\n",
    "else:\n",
    "    print(\"Not a digit string\")\n"
   ]
  },
  {
   "cell_type": "markdown",
   "id": "55297062-7cc7-4cdf-8b43-166eada4e014",
   "metadata": {},
   "source": [
    "# Question no.19"
   ]
  },
  {
   "cell_type": "code",
   "execution_count": 15,
   "id": "396842a9-7e60-4500-bb7a-30ee72272df6",
   "metadata": {},
   "outputs": [
    {
     "name": "stdin",
     "output_type": "stream",
     "text": [
      "Enter a string:  145256854754\n"
     ]
    },
    {
     "name": "stdout",
     "output_type": "stream",
     "text": [
      "Numeric string\n"
     ]
    }
   ],
   "source": [
    "string = input(\"Enter a string: \")\n",
    "\n",
    "if string.isnumeric():\n",
    "    print(\"Numeric string\")\n",
    "else:\n",
    "    print(\"Not a numeric string\")\n"
   ]
  },
  {
   "cell_type": "markdown",
   "id": "eb895b31-a02d-4616-a37f-220cbabf9dc7",
   "metadata": {},
   "source": [
    "# Question no.20"
   ]
  },
  {
   "cell_type": "code",
   "execution_count": 16,
   "id": "fc96412a-2ccf-40a3-8ff7-c34ca16233a7",
   "metadata": {},
   "outputs": [
    {
     "name": "stdin",
     "output_type": "stream",
     "text": [
      "Enter a string:  jhwbfuhvjbefginbdjsahiuhrkj\n"
     ]
    },
    {
     "name": "stdout",
     "output_type": "stream",
     "text": [
      "All lowercase\n"
     ]
    }
   ],
   "source": [
    "string = input(\"Enter a string: \")\n",
    "\n",
    "if string.islower():\n",
    "    print(\"All lowercase\")\n",
    "else:\n",
    "    print(\"Not all lowercase\")\n"
   ]
  },
  {
   "cell_type": "markdown",
   "id": "e7f0d81f-5296-405b-bd53-a329ff59a31e",
   "metadata": {},
   "source": [
    "# Question no.21"
   ]
  },
  {
   "cell_type": "code",
   "execution_count": 17,
   "id": "d49faa95-4bdc-47e5-81cd-263bd9c4abd4",
   "metadata": {},
   "outputs": [
    {
     "name": "stdin",
     "output_type": "stream",
     "text": [
      "Enter a string:  NDBVHERGWTUERVLJHHGB F\n"
     ]
    },
    {
     "name": "stdout",
     "output_type": "stream",
     "text": [
      "All uppercase\n"
     ]
    }
   ],
   "source": [
    "string = input(\"Enter a string: \")\n",
    "\n",
    "if string.isupper():\n",
    "    print(\"All uppercase\")\n",
    "else:\n",
    "    print(\"Not all uppercase\")\n"
   ]
  },
  {
   "cell_type": "markdown",
   "id": "08784a99-7167-4932-8272-478904f8480f",
   "metadata": {},
   "source": [
    "# Question no.22"
   ]
  },
  {
   "cell_type": "code",
   "execution_count": 23,
   "id": "c4f45a76-eaba-4a30-8197-d00de229be90",
   "metadata": {},
   "outputs": [
    {
     "name": "stdin",
     "output_type": "stream",
     "text": [
      "Enter a string:  Python\n"
     ]
    },
    {
     "name": "stdout",
     "output_type": "stream",
     "text": [
      "Title case string\n"
     ]
    }
   ],
   "source": [
    "string = input(\"Enter a string: \")\n",
    "\n",
    "if string.istitle():\n",
    "    print(\"Title case string\")\n",
    "else:\n",
    "    print(\"Not a title case string\")\n"
   ]
  },
  {
   "cell_type": "markdown",
   "id": "bf79c13a-9a07-45ac-bf2d-92e36f2e927f",
   "metadata": {},
   "source": [
    "# Question no.23"
   ]
  },
  {
   "cell_type": "code",
   "execution_count": 25,
   "id": "451d2ddf-db64-4ba9-a12c-6e0867b50cd8",
   "metadata": {},
   "outputs": [
    {
     "name": "stdin",
     "output_type": "stream",
     "text": [
      "Enter a string:  i am pratiksha\n"
     ]
    },
    {
     "name": "stdout",
     "output_type": "stream",
     "text": [
      "Not a whitespace string\n"
     ]
    }
   ],
   "source": [
    "string = input(\"Enter a string: \")\n",
    "\n",
    "if string.isspace():\n",
    "    print(\"Whitespace string\")\n",
    "else:\n",
    "    print(\"Not a whitespace string\")\n"
   ]
  },
  {
   "cell_type": "markdown",
   "id": "d00fd804-e331-4adb-8a9d-9b3e90359f3b",
   "metadata": {},
   "source": [
    "# Question no.24"
   ]
  },
  {
   "cell_type": "code",
   "execution_count": 21,
   "id": "888a2a5c-d8cb-4cc5-b15e-84032fabbf3d",
   "metadata": {},
   "outputs": [
    {
     "name": "stdin",
     "output_type": "stream",
     "text": [
      "Enter a number:  12345\n",
      "Enter desired width:  7\n"
     ]
    },
    {
     "name": "stdout",
     "output_type": "stream",
     "text": [
      "Zero-filled number: 0012345\n"
     ]
    }
   ],
   "source": [
    "number = input(\"Enter a number: \")\n",
    "width = int(input(\"Enter desired width: \"))\n",
    "\n",
    "padded = number.zfill(width)\n",
    "print(\"Zero-filled number:\", padded)\n"
   ]
  },
  {
   "cell_type": "markdown",
   "id": "49d9d2d5-e504-4f45-8daa-f2aa957861e2",
   "metadata": {},
   "source": [
    "# Questions no.25"
   ]
  },
  {
   "cell_type": "code",
   "execution_count": 20,
   "id": "abfc9960-c216-4a69-b60d-98b2bb923d65",
   "metadata": {},
   "outputs": [
    {
     "name": "stdin",
     "output_type": "stream",
     "text": [
      "Enter a string:  hello\n",
      "Enter desired width:  7\n"
     ]
    },
    {
     "name": "stdout",
     "output_type": "stream",
     "text": [
      "Centered string: *hello*\n"
     ]
    }
   ],
   "source": [
    "string = input(\"Enter a string: \")\n",
    "width = int(input(\"Enter desired width: \"))\n",
    "\n",
    "centered = string.center(width, '*')\n",
    "print(\"Centered string:\", centered)\n"
   ]
  },
  {
   "cell_type": "markdown",
   "id": "ec8c830b-ac56-4ec6-8cda-9b189f1a8d08",
   "metadata": {},
   "source": [
    "# Question no.26"
   ]
  },
  {
   "cell_type": "code",
   "execution_count": 18,
   "id": "bd5a8be0-2228-4e3c-9d63-225f7a8d001b",
   "metadata": {},
   "outputs": [
    {
     "name": "stdin",
     "output_type": "stream",
     "text": [
      "Enter first string:  bhosale\n",
      "Enter second string:  pratik\n"
     ]
    },
    {
     "name": "stdout",
     "output_type": "stream",
     "text": [
      "No case-insensitive match\n"
     ]
    }
   ],
   "source": [
    "str1 = input(\"Enter first string: \")\n",
    "str2 = input(\"Enter second string: \")\n",
    "\n",
    "if str1.casefold() == str2.casefold():\n",
    "    print(\"Case-insensitive match\")\n",
    "else:\n",
    "    print(\"No case-insensitive match\")\n"
   ]
  },
  {
   "cell_type": "code",
   "execution_count": null,
   "id": "318d70f0-b232-4726-b2b2-3c1532532808",
   "metadata": {},
   "outputs": [],
   "source": []
  }
 ],
 "metadata": {
  "kernelspec": {
   "display_name": "Python 3 (ipykernel)",
   "language": "python",
   "name": "python3"
  },
  "language_info": {
   "codemirror_mode": {
    "name": "ipython",
    "version": 3
   },
   "file_extension": ".py",
   "mimetype": "text/x-python",
   "name": "python",
   "nbconvert_exporter": "python",
   "pygments_lexer": "ipython3",
   "version": "3.12.4"
  }
 },
 "nbformat": 4,
 "nbformat_minor": 5
}
