{
 "cells": [
  {
   "cell_type": "code",
   "execution_count": 11,
   "id": "89df21a6-45a4-4b53-9d23-f3b83499a110",
   "metadata": {},
   "outputs": [
    {
     "name": "stdout",
     "output_type": "stream",
     "text": [
      "Hello Wolrd\n",
      "The length of a string is: 11\n"
     ]
    }
   ],
   "source": [
    "#Q1......\n",
    "string=\"Hello Wolrd\"\n",
    "print(string)\n",
    "print(\"The length of a string is:\",(len(string)))"
   ]
  },
  {
   "cell_type": "code",
   "execution_count": 73,
   "id": "8af76fd6-463b-4df4-ae51-4d8ac818825e",
   "metadata": {},
   "outputs": [
    {
     "data": {
      "text/plain": [
       "'nop'"
      ]
     },
     "execution_count": 73,
     "metadata": {},
     "output_type": "execute_result"
    }
   ],
   "source": [
    "#Q2.......\n",
    "#A\n",
    "str=\"abcdefghijklmnop\"\n",
    "str[13:16:1]\n"
   ]
  },
  {
   "cell_type": "code",
   "execution_count": 45,
   "id": "8ea81303-cf9a-4d48-b08b-8cddecdbe242",
   "metadata": {},
   "outputs": [
    {
     "data": {
      "text/plain": [
       "'abcdef'"
      ]
     },
     "execution_count": 45,
     "metadata": {},
     "output_type": "execute_result"
    }
   ],
   "source": [
    "#B\n",
    "str=\"abcdefghijklmnop\"\n",
    "str[0:6:1]\n",
    "\n"
   ]
  },
  {
   "cell_type": "code",
   "execution_count": 52,
   "id": "72654b24-0fd6-43f0-b732-625dffdaf274",
   "metadata": {},
   "outputs": [
    {
     "data": {
      "text/plain": [
       "'abcdefghijklm'"
      ]
     },
     "execution_count": 52,
     "metadata": {},
     "output_type": "execute_result"
    }
   ],
   "source": [
    "#C\n",
    "str=\"abcdefghijklmnop\"\n",
    "str[0:-13]\n",
    "str[0:13:1]"
   ]
  },
  {
   "cell_type": "code",
   "execution_count": 63,
   "id": "0fd3a830-455d-40c2-885e-aefa94e8e704",
   "metadata": {},
   "outputs": [
    {
     "name": "stdout",
     "output_type": "stream",
     "text": [
      "cdefgh\n"
     ]
    }
   ],
   "source": [
    "#D\n",
    "str=\"abcdefghijklmnop\"\n",
    "str1=str[2:8]\n",
    "print(str1)"
   ]
  },
  {
   "cell_type": "code",
   "execution_count": 66,
   "id": "8bd35992-4a71-4db2-ba2b-6748a926d017",
   "metadata": {},
   "outputs": [
    {
     "name": "stdout",
     "output_type": "stream",
     "text": [
      "dlroW olleH\n"
     ]
    }
   ],
   "source": [
    "#E\n",
    "str = \"Hello World\"\n",
    "reversed_text = text[::-1]\n",
    "print(reversed_text)"
   ]
  },
  {
   "cell_type": "code",
   "execution_count": 70,
   "id": "ddde84c5-82cb-465c-ba3a-35f6eb7b9dd7",
   "metadata": {},
   "outputs": [
    {
     "data": {
      "text/plain": [
       "'long'"
      ]
     },
     "execution_count": 70,
     "metadata": {},
     "output_type": "execute_result"
    }
   ],
   "source": [
    "#Q3........\n",
    "sen=\"This is a long sentence\"\n",
    "sen[10:14:1]"
   ]
  },
  {
   "cell_type": "code",
   "execution_count": 2,
   "id": "d0deaa90-0bd8-4c62-8fad-a1630a1e3e8c",
   "metadata": {},
   "outputs": [
    {
     "name": "stdin",
     "output_type": "stream",
     "text": [
      "Enter a string:  Bhosale\n"
     ]
    },
    {
     "name": "stdout",
     "output_type": "stream",
     "text": [
      "B\n",
      "h\n",
      "o\n",
      "s\n",
      "a\n",
      "l\n",
      "e\n"
     ]
    }
   ],
   "source": [
    "#Q4.......\n",
    "user_input = input(\"Enter a string: \")\n",
    "\n",
    "for char in user_input:\n",
    "    print(char)"
   ]
  },
  {
   "cell_type": "code",
   "execution_count": 91,
   "id": "dc004462-7855-427c-91fb-6495ecf39e59",
   "metadata": {},
   "outputs": [
    {
     "name": "stdout",
     "output_type": "stream",
     "text": [
      "h\n",
      "e\n",
      "l\n",
      "l\n",
      "o\n"
     ]
    }
   ],
   "source": [
    "#Q5.......\n",
    "\n",
    "a='hello'\n",
    "print(a[0])\n",
    "print(a[1])\n",
    "print(a[2])\n",
    "print(a[3])\n",
    "print(a[4])\n"
   ]
  },
  {
   "cell_type": "code",
   "execution_count": 92,
   "id": "fe9cdbf8-6318-4a0f-916c-b621d24f1c1b",
   "metadata": {},
   "outputs": [
    {
     "name": "stdout",
     "output_type": "stream",
     "text": [
      "The laptop cost 600000\n"
     ]
    }
   ],
   "source": [
    "#Q6.......\n",
    "product=\"laptop\"\n",
    "price=\"600000\"\n",
    "print(f\"The {product} cost {price}\")\n"
   ]
  },
  {
   "cell_type": "code",
   "execution_count": 99,
   "id": "4fcaa369-01dc-4304-9a58-faae518b01f0",
   "metadata": {},
   "outputs": [
    {
     "name": "stdout",
     "output_type": "stream",
     "text": [
      " In ssc examination vikas score 85 marks\n"
     ]
    }
   ],
   "source": [
    "#Q7.........\n",
    "name =\"vikas\"\n",
    "score=85\n",
    "print(f\" In ssc examination {name} score {score} marks\")"
   ]
  },
  {
   "cell_type": "code",
   "execution_count": 102,
   "id": "ce2ddc39-6f90-4f1e-a165-e936bed361e5",
   "metadata": {},
   "outputs": [
    {
     "name": "stdout",
     "output_type": "stream",
     "text": [
      "The laptop cost 600000 L\n",
      "*********\n",
      "The laptop cost 600000 A\n",
      "*********\n",
      "The laptop cost 600000 P\n",
      "*********\n",
      "The laptop cost 600000 T\n",
      "*********\n",
      "The laptop cost 600000 O\n",
      "*********\n",
      "The laptop cost 600000 P\n",
      "*********\n"
     ]
    }
   ],
   "source": [
    "#Q8.........\n",
    "string = 'LAPTOP'\n",
    "\n",
    "for char in string: \n",
    "    print(f\"The laptop cost 600000 {char}\")\n",
    "    print(\"*********\")"
   ]
  },
  {
   "cell_type": "code",
   "execution_count": 103,
   "id": "57347e4d-2d75-496c-a464-0badd353f361",
   "metadata": {},
   "outputs": [
    {
     "name": "stdout",
     "output_type": "stream",
     "text": [
      "(0, 'P')\n",
      "(1, 'R')\n",
      "(2, 'A')\n",
      "(3, 'T')\n",
      "(4, 'I')\n",
      "(5, 'K')\n",
      "(6, 'S')\n",
      "(7, 'H')\n",
      "(8, 'A')\n"
     ]
    }
   ],
   "source": [
    "#Q9........\n",
    "string = 'PRATIKSHA'\n",
    "\n",
    "for char in enumerate(string):\n",
    "    print(char)"
   ]
  },
  {
   "cell_type": "code",
   "execution_count": 1,
   "id": "15bf0221-9670-40d6-a16e-77a5d9218e9f",
   "metadata": {},
   "outputs": [
    {
     "name": "stdin",
     "output_type": "stream",
     "text": [
      "Enter a name:  pratiksha\n"
     ]
    },
    {
     "name": "stdout",
     "output_type": "stream",
     "text": [
      "a\n",
      "h\n",
      "s\n",
      "k\n",
      "i\n",
      "t\n",
      "a\n",
      "r\n",
      "p\n"
     ]
    }
   ],
   "source": [
    "#Q10.........\n",
    "user_input = input(\"Enter a name: \")\n",
    "\n",
    "for i in range(len(user_input) - 1, -1, -1):\n",
    "    print(user_input[i])"
   ]
  },
  {
   "cell_type": "markdown",
   "id": "53ea9dda-9f6d-49f8-b15a-c189d37d64cd",
   "metadata": {},
   "source": []
  }
 ],
 "metadata": {
  "kernelspec": {
   "display_name": "Python 3 (ipykernel)",
   "language": "python",
   "name": "python3"
  },
  "language_info": {
   "codemirror_mode": {
    "name": "ipython",
    "version": 3
   },
   "file_extension": ".py",
   "mimetype": "text/x-python",
   "name": "python",
   "nbconvert_exporter": "python",
   "pygments_lexer": "ipython3",
   "version": "3.12.4"
  }
 },
 "nbformat": 4,
 "nbformat_minor": 5
}
